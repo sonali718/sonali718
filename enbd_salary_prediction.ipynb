{
 "cells": [
  {
   "cell_type": "code",
   "execution_count": 83,
   "metadata": {},
   "outputs": [],
   "source": [
    "import pandas as pd\n",
    "import seaborn as sb\n",
    "import matplotlib.pyplot as plt\n",
    "import numpy as np\n",
    "import datetime"
   ]
  },
  {
   "cell_type": "code",
   "execution_count": 84,
   "metadata": {},
   "outputs": [
    {
     "data": {
      "text/html": [
       "<div>\n",
       "<style scoped>\n",
       "    .dataframe tbody tr th:only-of-type {\n",
       "        vertical-align: middle;\n",
       "    }\n",
       "\n",
       "    .dataframe tbody tr th {\n",
       "        vertical-align: top;\n",
       "    }\n",
       "\n",
       "    .dataframe thead th {\n",
       "        text-align: right;\n",
       "    }\n",
       "</style>\n",
       "<table border=\"1\" class=\"dataframe\">\n",
       "  <thead>\n",
       "    <tr style=\"text-align: right;\">\n",
       "      <th></th>\n",
       "      <th>id</th>\n",
       "      <th>lead_date</th>\n",
       "      <th>lead_id</th>\n",
       "      <th>Card_type</th>\n",
       "      <th>ALE_Status</th>\n",
       "      <th>submission_Substatus</th>\n",
       "      <th>Application_no</th>\n",
       "      <th>campaign_id</th>\n",
       "      <th>listid</th>\n",
       "      <th>Employer_Name</th>\n",
       "      <th>...</th>\n",
       "      <th>Marital_Status</th>\n",
       "      <th>Total_No_of_Dependants</th>\n",
       "      <th>Gender</th>\n",
       "      <th>Industry</th>\n",
       "      <th>Working_Emirates</th>\n",
       "      <th>Existing_Bank_Customer</th>\n",
       "      <th>DSR</th>\n",
       "      <th>Residence_Emirates</th>\n",
       "      <th>Length_of_residence_in_UAE</th>\n",
       "      <th>DOB</th>\n",
       "    </tr>\n",
       "  </thead>\n",
       "  <tbody>\n",
       "    <tr>\n",
       "      <th>0</th>\n",
       "      <td>1628</td>\n",
       "      <td>2016-09-26 10:13:42</td>\n",
       "      <td>270044</td>\n",
       "      <td>LuLu 247 Titanium</td>\n",
       "      <td>ALE</td>\n",
       "      <td>END</td>\n",
       "      <td>2559374</td>\n",
       "      <td>ENBD</td>\n",
       "      <td>5035</td>\n",
       "      <td>AL AWADHI ALUMINIUM</td>\n",
       "      <td>...</td>\n",
       "      <td>Married</td>\n",
       "      <td>0.0</td>\n",
       "      <td>Male</td>\n",
       "      <td>Retail</td>\n",
       "      <td>Dubai</td>\n",
       "      <td>No</td>\n",
       "      <td>0</td>\n",
       "      <td>Dubai</td>\n",
       "      <td>32</td>\n",
       "      <td>1969-12-16</td>\n",
       "    </tr>\n",
       "    <tr>\n",
       "      <th>1</th>\n",
       "      <td>3977</td>\n",
       "      <td>2018-07-23 16:51:34</td>\n",
       "      <td>3618139</td>\n",
       "      <td>LuLu 247 Titanium</td>\n",
       "      <td>NON ALE</td>\n",
       "      <td>END</td>\n",
       "      <td>2560993</td>\n",
       "      <td>ENBD</td>\n",
       "      <td>5000</td>\n",
       "      <td>DL MIDDLE EAST</td>\n",
       "      <td>...</td>\n",
       "      <td>Married</td>\n",
       "      <td>3.0</td>\n",
       "      <td>Male</td>\n",
       "      <td>Service</td>\n",
       "      <td>Dubai</td>\n",
       "      <td>No</td>\n",
       "      <td>8</td>\n",
       "      <td>Dubai</td>\n",
       "      <td>13</td>\n",
       "      <td>1988-05-15</td>\n",
       "    </tr>\n",
       "    <tr>\n",
       "      <th>2</th>\n",
       "      <td>4875</td>\n",
       "      <td>2018-10-21 17:03:58</td>\n",
       "      <td>3869122</td>\n",
       "      <td>LuLu 247 Titanium</td>\n",
       "      <td>NON ALE</td>\n",
       "      <td>New submission</td>\n",
       "      <td>NaN</td>\n",
       "      <td>ENBD</td>\n",
       "      <td>5142</td>\n",
       "      <td>AGNICE ELECTROMECHANICAL LLLC</td>\n",
       "      <td>...</td>\n",
       "      <td>Married</td>\n",
       "      <td>1.0</td>\n",
       "      <td>Male</td>\n",
       "      <td>Construction</td>\n",
       "      <td>Dubai</td>\n",
       "      <td>No</td>\n",
       "      <td>18</td>\n",
       "      <td>Dubai</td>\n",
       "      <td>5</td>\n",
       "      <td>1985-07-29</td>\n",
       "    </tr>\n",
       "    <tr>\n",
       "      <th>3</th>\n",
       "      <td>8890</td>\n",
       "      <td>2018-12-31 12:06:15</td>\n",
       "      <td>4456359</td>\n",
       "      <td>LuLu 247 Titanium</td>\n",
       "      <td>NON ALE</td>\n",
       "      <td>END</td>\n",
       "      <td>2544113</td>\n",
       "      <td>ENBD</td>\n",
       "      <td>5200</td>\n",
       "      <td>PROSCAPE</td>\n",
       "      <td>...</td>\n",
       "      <td>Married</td>\n",
       "      <td>0.0</td>\n",
       "      <td>Male</td>\n",
       "      <td>Construction</td>\n",
       "      <td>Dubai</td>\n",
       "      <td>No</td>\n",
       "      <td>6</td>\n",
       "      <td>Dubai</td>\n",
       "      <td>0</td>\n",
       "      <td>1972-06-07</td>\n",
       "    </tr>\n",
       "    <tr>\n",
       "      <th>4</th>\n",
       "      <td>17171</td>\n",
       "      <td>2019-03-31 12:06:15</td>\n",
       "      <td>5076923</td>\n",
       "      <td>LuLu 247 Titanium</td>\n",
       "      <td>NON ALE</td>\n",
       "      <td>END</td>\n",
       "      <td>2545999</td>\n",
       "      <td>ENBD</td>\n",
       "      <td>5200</td>\n",
       "      <td>PRIME HOSPITALITY</td>\n",
       "      <td>...</td>\n",
       "      <td>Single</td>\n",
       "      <td>1.0</td>\n",
       "      <td>Male</td>\n",
       "      <td>Health Care</td>\n",
       "      <td>Dubai</td>\n",
       "      <td>No</td>\n",
       "      <td>25</td>\n",
       "      <td>Dubai</td>\n",
       "      <td>3</td>\n",
       "      <td>1991-03-21</td>\n",
       "    </tr>\n",
       "  </tbody>\n",
       "</table>\n",
       "<p>5 rows × 28 columns</p>\n",
       "</div>"
      ],
      "text/plain": [
       "      id           lead_date  lead_id          Card_type ALE_Status  \\\n",
       "0   1628 2016-09-26 10:13:42   270044  LuLu 247 Titanium        ALE   \n",
       "1   3977 2018-07-23 16:51:34  3618139  LuLu 247 Titanium    NON ALE   \n",
       "2   4875 2018-10-21 17:03:58  3869122  LuLu 247 Titanium    NON ALE   \n",
       "3   8890 2018-12-31 12:06:15  4456359  LuLu 247 Titanium    NON ALE   \n",
       "4  17171 2019-03-31 12:06:15  5076923  LuLu 247 Titanium    NON ALE   \n",
       "\n",
       "  submission_Substatus Application_no campaign_id  listid  \\\n",
       "0                  END        2559374        ENBD    5035   \n",
       "1                  END        2560993        ENBD    5000   \n",
       "2       New submission            NaN        ENBD    5142   \n",
       "3                  END        2544113        ENBD    5200   \n",
       "4                  END        2545999        ENBD    5200   \n",
       "\n",
       "                    Employer_Name  ... Marital_Status  Total_No_of_Dependants  \\\n",
       "0            AL AWADHI ALUMINIUM   ...        Married                     0.0   \n",
       "1                 DL MIDDLE EAST   ...        Married                     3.0   \n",
       "2  AGNICE ELECTROMECHANICAL LLLC   ...        Married                     1.0   \n",
       "3                       PROSCAPE   ...        Married                     0.0   \n",
       "4               PRIME HOSPITALITY  ...         Single                     1.0   \n",
       "\n",
       "  Gender      Industry Working_Emirates Existing_Bank_Customer DSR  \\\n",
       "0   Male        Retail            Dubai                     No   0   \n",
       "1   Male       Service            Dubai                     No   8   \n",
       "2   Male  Construction            Dubai                     No  18   \n",
       "3   Male  Construction            Dubai                     No   6   \n",
       "4   Male   Health Care            Dubai                     No  25   \n",
       "\n",
       "  Residence_Emirates Length_of_residence_in_UAE        DOB  \n",
       "0              Dubai                         32 1969-12-16  \n",
       "1              Dubai                         13 1988-05-15  \n",
       "2              Dubai                          5 1985-07-29  \n",
       "3              Dubai                          0 1972-06-07  \n",
       "4              Dubai                          3 1991-03-21  \n",
       "\n",
       "[5 rows x 28 columns]"
      ]
     },
     "execution_count": 84,
     "metadata": {},
     "output_type": "execute_result"
    }
   ],
   "source": [
    "df = pd.read_excel(r'C:\\Users\\Dell\\Downloads\\enbd_leads.xls',parse_dates=True)\n",
    "df.head()"
   ]
  },
  {
   "cell_type": "code",
   "execution_count": 85,
   "metadata": {},
   "outputs": [
    {
     "data": {
      "text/plain": [
       "id                              0\n",
       "lead_date                       0\n",
       "lead_id                         0\n",
       "Card_type                       0\n",
       "ALE_Status                      0\n",
       "submission_Substatus            0\n",
       "Application_no                127\n",
       "campaign_id                     0\n",
       "listid                          0\n",
       "Employer_Name                   0\n",
       "Address                         0\n",
       "Salary                          0\n",
       "Designation                     0\n",
       "Nationality                     0\n",
       "City                            0\n",
       "cheque                          0\n",
       "Salary_transfer_bank            8\n",
       "Length_of_service              87\n",
       "Marital_Status                  0\n",
       "Total_No_of_Dependants          1\n",
       "Gender                          0\n",
       "Industry                        0\n",
       "Working_Emirates                0\n",
       "Existing_Bank_Customer          0\n",
       "DSR                            31\n",
       "Residence_Emirates              0\n",
       "Length_of_residence_in_UAE      3\n",
       "DOB                             0\n",
       "dtype: int64"
      ]
     },
     "execution_count": 85,
     "metadata": {},
     "output_type": "execute_result"
    }
   ],
   "source": [
    "#to check whether there are any kind of missing values in the dataset\n",
    "df.isnull().sum()"
   ]
  },
  {
   "cell_type": "code",
   "execution_count": 86,
   "metadata": {},
   "outputs": [
    {
     "data": {
      "text/plain": [
       "id                                     int64\n",
       "lead_date                     datetime64[ns]\n",
       "lead_id                                int64\n",
       "Card_type                             object\n",
       "ALE_Status                            object\n",
       "submission_Substatus                  object\n",
       "Application_no                        object\n",
       "campaign_id                           object\n",
       "listid                                 int64\n",
       "Employer_Name                         object\n",
       "Address                               object\n",
       "Salary                                 int64\n",
       "Designation                           object\n",
       "Nationality                           object\n",
       "City                                  object\n",
       "cheque                                object\n",
       "Salary_transfer_bank                  object\n",
       "Length_of_service                     object\n",
       "Marital_Status                        object\n",
       "Total_No_of_Dependants               float64\n",
       "Gender                                object\n",
       "Industry                              object\n",
       "Working_Emirates                      object\n",
       "Existing_Bank_Customer                object\n",
       "DSR                                   object\n",
       "Residence_Emirates                    object\n",
       "Length_of_residence_in_UAE            object\n",
       "DOB                           datetime64[ns]\n",
       "dtype: object"
      ]
     },
     "execution_count": 86,
     "metadata": {},
     "output_type": "execute_result"
    }
   ],
   "source": [
    "df.dtypes"
   ]
  },
  {
   "cell_type": "code",
   "execution_count": 87,
   "metadata": {},
   "outputs": [
    {
     "data": {
      "text/plain": [
       "(516, 28)"
      ]
     },
     "execution_count": 87,
     "metadata": {},
     "output_type": "execute_result"
    }
   ],
   "source": [
    "df.shape"
   ]
  },
  {
   "cell_type": "code",
   "execution_count": 88,
   "metadata": {},
   "outputs": [
    {
     "data": {
      "text/html": [
       "<div>\n",
       "<style scoped>\n",
       "    .dataframe tbody tr th:only-of-type {\n",
       "        vertical-align: middle;\n",
       "    }\n",
       "\n",
       "    .dataframe tbody tr th {\n",
       "        vertical-align: top;\n",
       "    }\n",
       "\n",
       "    .dataframe thead th {\n",
       "        text-align: right;\n",
       "    }\n",
       "</style>\n",
       "<table border=\"1\" class=\"dataframe\">\n",
       "  <thead>\n",
       "    <tr style=\"text-align: right;\">\n",
       "      <th></th>\n",
       "      <th>id</th>\n",
       "      <th>lead_id</th>\n",
       "      <th>listid</th>\n",
       "      <th>Salary</th>\n",
       "      <th>Total_No_of_Dependants</th>\n",
       "    </tr>\n",
       "  </thead>\n",
       "  <tbody>\n",
       "    <tr>\n",
       "      <th>count</th>\n",
       "      <td>5.160000e+02</td>\n",
       "      <td>5.160000e+02</td>\n",
       "      <td>516.000000</td>\n",
       "      <td>516.000000</td>\n",
       "      <td>515.000000</td>\n",
       "    </tr>\n",
       "    <tr>\n",
       "      <th>mean</th>\n",
       "      <td>5.665478e+06</td>\n",
       "      <td>6.114260e+06</td>\n",
       "      <td>6526.468992</td>\n",
       "      <td>11615.565891</td>\n",
       "      <td>1.163107</td>\n",
       "    </tr>\n",
       "    <tr>\n",
       "      <th>std</th>\n",
       "      <td>1.043676e+06</td>\n",
       "      <td>9.040050e+05</td>\n",
       "      <td>33706.334293</td>\n",
       "      <td>12002.122828</td>\n",
       "      <td>1.102084</td>\n",
       "    </tr>\n",
       "    <tr>\n",
       "      <th>min</th>\n",
       "      <td>1.628000e+03</td>\n",
       "      <td>2.322900e+04</td>\n",
       "      <td>4999.000000</td>\n",
       "      <td>5000.000000</td>\n",
       "      <td>0.000000</td>\n",
       "    </tr>\n",
       "    <tr>\n",
       "      <th>25%</th>\n",
       "      <td>5.857869e+06</td>\n",
       "      <td>6.428286e+06</td>\n",
       "      <td>4999.000000</td>\n",
       "      <td>5472.500000</td>\n",
       "      <td>0.000000</td>\n",
       "    </tr>\n",
       "    <tr>\n",
       "      <th>50%</th>\n",
       "      <td>5.858002e+06</td>\n",
       "      <td>6.428494e+06</td>\n",
       "      <td>4999.000000</td>\n",
       "      <td>7066.500000</td>\n",
       "      <td>1.000000</td>\n",
       "    </tr>\n",
       "    <tr>\n",
       "      <th>75%</th>\n",
       "      <td>5.858132e+06</td>\n",
       "      <td>6.428635e+06</td>\n",
       "      <td>4999.000000</td>\n",
       "      <td>12000.000000</td>\n",
       "      <td>2.000000</td>\n",
       "    </tr>\n",
       "    <tr>\n",
       "      <th>max</th>\n",
       "      <td>5.858261e+06</td>\n",
       "      <td>6.428770e+06</td>\n",
       "      <td>770700.000000</td>\n",
       "      <td>100000.000000</td>\n",
       "      <td>4.000000</td>\n",
       "    </tr>\n",
       "  </tbody>\n",
       "</table>\n",
       "</div>"
      ],
      "text/plain": [
       "                 id       lead_id         listid         Salary  \\\n",
       "count  5.160000e+02  5.160000e+02     516.000000     516.000000   \n",
       "mean   5.665478e+06  6.114260e+06    6526.468992   11615.565891   \n",
       "std    1.043676e+06  9.040050e+05   33706.334293   12002.122828   \n",
       "min    1.628000e+03  2.322900e+04    4999.000000    5000.000000   \n",
       "25%    5.857869e+06  6.428286e+06    4999.000000    5472.500000   \n",
       "50%    5.858002e+06  6.428494e+06    4999.000000    7066.500000   \n",
       "75%    5.858132e+06  6.428635e+06    4999.000000   12000.000000   \n",
       "max    5.858261e+06  6.428770e+06  770700.000000  100000.000000   \n",
       "\n",
       "       Total_No_of_Dependants  \n",
       "count              515.000000  \n",
       "mean                 1.163107  \n",
       "std                  1.102084  \n",
       "min                  0.000000  \n",
       "25%                  0.000000  \n",
       "50%                  1.000000  \n",
       "75%                  2.000000  \n",
       "max                  4.000000  "
      ]
     },
     "execution_count": 88,
     "metadata": {},
     "output_type": "execute_result"
    }
   ],
   "source": [
    "df.describe()"
   ]
  },
  {
   "cell_type": "code",
   "execution_count": 89,
   "metadata": {},
   "outputs": [
    {
     "data": {
      "text/plain": [
       "<matplotlib.axes._subplots.AxesSubplot at 0x1bf2adacbb0>"
      ]
     },
     "execution_count": 89,
     "metadata": {},
     "output_type": "execute_result"
    },
    {
     "data": {
      "image/png": "[encoded data removed]",
      "text/plain": [
       "<Figure size 432x288 with 1 Axes>"
      ]
     },
     "metadata": {
      "needs_background": "light"
     },
     "output_type": "display_data"
    }
   ],
   "source": [
    "df.boxplot()"
   ]
  },
  {
   "cell_type": "code",
   "execution_count": 90,
   "metadata": {},
   "outputs": [],
   "source": [
    "df=df.drop([\"Total_No_of_Dependants\",\"Length_of_residence_in_UAE\",\"campaign_id\",\"lead_id\"],axis=1)"
   ]
  },
  {
   "cell_type": "code",
   "execution_count": 91,
   "metadata": {},
   "outputs": [
    {
     "data": {
      "text/html": [
       "<div>\n",
       "<style scoped>\n",
       "    .dataframe tbody tr th:only-of-type {\n",
       "        vertical-align: middle;\n",
       "    }\n",
       "\n",
       "    .dataframe tbody tr th {\n",
       "        vertical-align: top;\n",
       "    }\n",
       "\n",
       "    .dataframe thead th {\n",
       "        text-align: right;\n",
       "    }\n",
       "</style>\n",
       "<table border=\"1\" class=\"dataframe\">\n",
       "  <thead>\n",
       "    <tr style=\"text-align: right;\">\n",
       "      <th></th>\n",
       "      <th>id</th>\n",
       "      <th>listid</th>\n",
       "      <th>Salary</th>\n",
       "    </tr>\n",
       "  </thead>\n",
       "  <tbody>\n",
       "    <tr>\n",
       "      <th>id</th>\n",
       "      <td>1.000000</td>\n",
       "      <td>-0.239168</td>\n",
       "      <td>-0.017398</td>\n",
       "    </tr>\n",
       "    <tr>\n",
       "      <th>listid</th>\n",
       "      <td>-0.239168</td>\n",
       "      <td>1.000000</td>\n",
       "      <td>-0.006815</td>\n",
       "    </tr>\n",
       "    <tr>\n",
       "      <th>Salary</th>\n",
       "      <td>-0.017398</td>\n",
       "      <td>-0.006815</td>\n",
       "      <td>1.000000</td>\n",
       "    </tr>\n",
       "  </tbody>\n",
       "</table>\n",
       "</div>"
      ],
      "text/plain": [
       "              id    listid    Salary\n",
       "id      1.000000 -0.239168 -0.017398\n",
       "listid -0.239168  1.000000 -0.006815\n",
       "Salary -0.017398 -0.006815  1.000000"
      ]
     },
     "execution_count": 91,
     "metadata": {},
     "output_type": "execute_result"
    }
   ],
   "source": [
    "cor_matrix = df.corr()\n",
    "cor_matrix"
   ]
  },
  {
   "cell_type": "code",
   "execution_count": 92,
   "metadata": {},
   "outputs": [
    {
     "data": {
      "text/plain": [
       "<matplotlib.axes._subplots.AxesSubplot at 0x1bf2ae17be0>"
      ]
     },
     "execution_count": 92,
     "metadata": {},
     "output_type": "execute_result"
    },
    {
     "data": {
      "image/png": "[encoded data removed]",
      "text/plain": [
       "<Figure size 432x288 with 2 Axes>"
      ]
     },
     "metadata": {
      "needs_background": "light"
     },
     "output_type": "display_data"
    }
   ],
   "source": [
    "sb.heatmap(cor_matrix,annot=True)"
   ]
  },
  {
   "cell_type": "code",
   "execution_count": 93,
   "metadata": {},
   "outputs": [],
   "source": [
    "#from autocorrect import Speller\n",
    "\n",
    "#df[\"Length_of_service\"] = df[\"Length_of_service\"].astype(str)"
   ]
  },
  {
   "cell_type": "code",
   "execution_count": 12,
   "metadata": {},
   "outputs": [],
   "source": [
    "#pip install --requirement requirements.txt"
   ]
  },
  {
   "cell_type": "code",
   "execution_count": 13,
   "metadata": {},
   "outputs": [],
   "source": [
    "#from spellchecker import SpellChecker\n",
    "#df[\"Length_of_service1\"] = df.Length_of_service\n",
    "#spell = SpellChecker(distance=1)\n",
    "#def Correct(x):\n",
    "#return spell.correction(x)\n",
    "#df[\"Length_of_service1\"] = df.apply(Correct)\n",
    "#df[\"Length_of_service1\"]"
   ]
  },
  {
   "cell_type": "code",
   "execution_count": 14,
   "metadata": {},
   "outputs": [],
   "source": [
    "#from textblob import TextBlob\n",
    "#df[\"Length_of_service1\"] = TextBlob(df[\"Length_of_service\"])"
   ]
  },
  {
   "cell_type": "code",
   "execution_count": 15,
   "metadata": {},
   "outputs": [],
   "source": [
    "#pip install spellchecker"
   ]
  },
  {
   "cell_type": "code",
   "execution_count": 16,
   "metadata": {},
   "outputs": [],
   "source": [
    "#df.DOB.isnull().sum()\n",
    "#df['DOB'] = pd.to_numeric(df['DOB'], errors='coerce')\n",
    "#df = df.dropna(subset=['DOB'])"
   ]
  },
  {
   "cell_type": "code",
   "execution_count": 17,
   "metadata": {},
   "outputs": [],
   "source": [
    "#df[\"Length_of_service\"] = [' '.join([speller(i) for i in x.split()]) for x in df['Length_of_service']]"
   ]
  },
  {
   "cell_type": "code",
   "execution_count": 18,
   "metadata": {},
   "outputs": [],
   "source": [
    "#length of service\n",
    "\n",
    "\n",
    "#def spell_check(Length_of_service):\n",
    " #   checked_list = []\n",
    "  #  for item in Length_of_service:\n",
    "   #     replacer = SpellingReplacer()\n",
    "    #    r = replacer.replace(item)\n",
    "     #   checked_list.append(r)\n",
    "    #return checked_list\n",
    "\n",
    "#spell_check(Length_of_service=df.Length_of_service)"
   ]
  },
  {
   "cell_type": "code",
   "execution_count": 94,
   "metadata": {},
   "outputs": [],
   "source": [
    "df[\"lead_date_year\"] = df[\"lead_date\"].dt.year\n",
    "df[\"lead_date_month\"] = df[\"lead_date\"].dt.month\n",
    "df[\"lead_date_day\"] = df[\"lead_date\"].dt.day"
   ]
  },
  {
   "cell_type": "code",
   "execution_count": 95,
   "metadata": {},
   "outputs": [],
   "source": [
    "df[\"dob_year\"] = df[\"DOB\"].dt.year\n",
    "df[\"dob_month\"] = df[\"DOB\"].dt.month\n",
    "df[\"dob_day\"] = df[\"DOB\"].dt.day"
   ]
  },
  {
   "cell_type": "code",
   "execution_count": 96,
   "metadata": {},
   "outputs": [],
   "source": [
    "df = df.drop([\"lead_date\",\"DOB\",\"City\"],axis=1)"
   ]
  },
  {
   "cell_type": "code",
   "execution_count": 97,
   "metadata": {},
   "outputs": [],
   "source": [
    "df.replace('NA', np.nan,inplace=True)#First replace n/a values with nan in whole data set.\n",
    "df.Length_of_service.fillna(value=0,inplace=True)#Replace n/a values with 0.\n",
    "df['Length_of_service'].replace(to_replace='[^0-9]+', value='', inplace=True, regex=True)#To_replace='[^0-9]+' - denotes special char in emp_length col.And it will further replace these special chars with blank value.\n",
    "df['Length_of_service'] = df['Length_of_service'].astype(int) #convert to integer"
   ]
  },
  {
   "cell_type": "code",
   "execution_count": 98,
   "metadata": {},
   "outputs": [
    {
     "data": {
      "text/plain": [
       "array([  32,    7,    1,    4,    2, 1001,    2,    3,    2,    3,    0,\n",
       "          4,   10,    1,    3,    2, 1406,    3,    2,    3,    4,    7,\n",
       "          6,    0,  107,    2,    0,    2,    1,  209,   10,    0,    8,\n",
       "         10,    0,    1,    7,   18,  303,    3,    0,    0,    3,    0,\n",
       "          1,    0,    0,    0,    0,    0,    0,   10,    0,    0,    2,\n",
       "         13,    0,    7,    4,    0,    5,    0,    0,    0,    0,    0,\n",
       "          4,    0,    4,    0,    0,    0,   14,    0,    1,    1,    1,\n",
       "          0,    0,    0,    0,    0,    0,  903,    0,    0,    2,    3,\n",
       "          0,    0,    0,    0,    0,    0,    0,    0,    0,    0,    0,\n",
       "          0,    0,    0,    2,    0,   10,    0,    0,    0,    0,    0,\n",
       "          0,    0,    0,    0,    0,    2,    0,    0,    0,    1,  201,\n",
       "       1703,  603,  202,    4,  603,  102,  102,   11,   10,  601,   10,\n",
       "          6,    4,    2,  302,    6,    1, 1010,   11,    0,  110,  510,\n",
       "        608,   19,  109,    4,    4,    1,    1,   15,  104,  111,   14,\n",
       "          5,    0,   38,  111,  204,    0,    2,   13,    0,  502,    5,\n",
       "          8,    5,   10,    0,    1,    6,   11,    2,  101,   22, 1203,\n",
       "         15,    3,    8,    8,    3,    9,   13,    4,  406,  403,    0,\n",
       "       1710,  204,    2, 1805,    6,  602,  101,    6,    3,  103,    1,\n",
       "          3,  504,    8,  807,  210,    2,  602,  103,    8,  410,    3,\n",
       "          0,    6,   10,    1,  304,  111,    1,  504,  402,  303,    0,\n",
       "          1,    8,    1,    4, 1203,    0,    8,    3,    1,    2,    1,\n",
       "          8,  207,  202,  503,    4,    4,  307,  306,  203,    5,   18,\n",
       "          0,    1,  108,    4,    0,  101,  806,  101,   10,    2,  101,\n",
       "        311,    1,    0,  106,  204,  810,    9,    0,    0,    3,    1,\n",
       "         10,    3,    1,    2,    3,    3,    6,   12,    6,    2,    7,\n",
       "         17,    0,    0,    7,    6,    7,  103,  402,  304,    5,  402,\n",
       "        109,   16,    8,    4,    7,    5, 1111,    0,   10,    2, 1305,\n",
       "        302,    0,  208,  202,    2,  101, 1201,    1,    0,  601,   12,\n",
       "         10,  702,    0,    1,  303,    7,    3,   10,   10,  308,  209,\n",
       "          6,    2, 1407,   10,   14,    0,  109,    0,  904,    0,  302,\n",
       "          7,  101,    6,   22,    3,    5,    7,    6,  606,  108,    4,\n",
       "        905,   10,    6,    0, 1504,    8,    9,    0,  601,  210,   11,\n",
       "          1,   10,  406,  201,   10,    0,  110,    2,  103,   16, 1310,\n",
       "          1,    0,  109,    0, 1010,  103, 1206,    4,  102,    0,    3,\n",
       "          0,    2,    2,   17,   15,    5,    3,    1,    1,    0,    5,\n",
       "          0,    1,   16,    1,    1,    0,    0,   16,    3,    5,    1,\n",
       "          7,    0,    4,    1,    0,    1,    0,    5,    1,    0,    3,\n",
       "          1,   14,    1,    0,    2,   20,    1,    0,    5,    1,    8,\n",
       "          0,    6,   11,    5,    3,    2,    5,   11,   11,    2,    1,\n",
       "          0,   16,    0,    0,    5,    1,    0,   30,    0,    0,    0,\n",
       "          5,    0,    1,    0,    3,    4,    3,    7,    3,    1,    6,\n",
       "          2,    2,    3,    0,    2,    6,    9,    1,    0,    0,    0,\n",
       "          0,    5,    1,    2,    0,    2,    2,    1,    3,    1,    9,\n",
       "          0,    9,    4,    1,    1,   10,    1,    5,    2,    2,    2,\n",
       "          3,    0,    4,    5,    5,    9,   13,    6,    1,    0,    9,\n",
       "          0,    0,    6,    4,    2,    0,    4,    0,    0,    1,    1,\n",
       "          7,    6,    0,    7,    5,    0,    1,    3,    0,    0])"
      ]
     },
     "execution_count": 98,
     "metadata": {},
     "output_type": "execute_result"
    }
   ],
   "source": [
    "df.Length_of_service.values"
   ]
  },
  {
   "cell_type": "code",
   "execution_count": 99,
   "metadata": {},
   "outputs": [
    {
     "data": {
      "text/plain": [
       "id                          0\n",
       "Card_type                   0\n",
       "ALE_Status                  0\n",
       "submission_Substatus        0\n",
       "Application_no            127\n",
       "listid                      0\n",
       "Employer_Name               0\n",
       "Address                     0\n",
       "Salary                      0\n",
       "Designation                 0\n",
       "Nationality                 0\n",
       "cheque                      0\n",
       "Salary_transfer_bank        8\n",
       "Length_of_service           0\n",
       "Marital_Status              0\n",
       "Gender                      0\n",
       "Industry                    0\n",
       "Working_Emirates            0\n",
       "Existing_Bank_Customer      0\n",
       "DSR                        31\n",
       "Residence_Emirates          0\n",
       "lead_date_year              0\n",
       "lead_date_month             0\n",
       "lead_date_day               0\n",
       "dob_year                    0\n",
       "dob_month                   0\n",
       "dob_day                     0\n",
       "dtype: int64"
      ]
     },
     "execution_count": 99,
     "metadata": {},
     "output_type": "execute_result"
    }
   ],
   "source": [
    "df.isnull().sum()"
   ]
  },
  {
   "cell_type": "code",
   "execution_count": 100,
   "metadata": {},
   "outputs": [
    {
     "data": {
      "text/plain": [
       "array([0, 8, 18, 6, 25, 0, 11, 20, 22, 20, 5, 20, 36, 11, 20, 0, 8, 33,\n",
       "       nan, 6, 0.5, 20, 25, 35, 5, 11, 0, 23, nan, 33, 25, 25, 33, 0, nan,\n",
       "       35, 0, 8, 22, 48, '10%', 4, 0, 0, 10, 25, 2, 42, 33, '10%', 4, 10,\n",
       "       18, '10%', 2, 25, '10%', 8, 59, nan, 6, 4, nan, nan, nan, nan, 5,\n",
       "       25, 20, nan, 0, nan, 11, 25, 25, 18, 20, nan, 8, nan, nan, nan,\n",
       "       nan, nan, nan, nan, nan, nan, nan, nan, nan, nan, 0, 0, 0, 0, 0, 0,\n",
       "       0, 0, 0, '10%', 8, 4, 4, 3, 4, 1, 2, 4, 3, 3, 3, 3, 2, 3, 3, 6, 6,\n",
       "       6, 6, 0, 3, 5, 2, 4, 4, 4, 1, 4, 6, 4, 2, 3, 6, 4, 3, 0, 6, 3, 6,\n",
       "       55, 0, 18, 3, 4, 3, 0, 22, 6, 6, 6, 6, 3, 6, 9, 6, 6, 6, 6, 6, 6,\n",
       "       6, 6, 6, 9, 0, 0, 5, 5, 0.75, 5, 5, 10, 40, 3, 3, 9, 20, 9, 0, 0,\n",
       "       5, 2, 10, 25, 43, 42, 25, 0, 25, 20, 20, 20, 25, 2, 0, 20, 6, 4, 6,\n",
       "       0, 0, 17, 2, 2, 10, 0, nan, 10, 22, 0, 33, 15, 0, 2, 25, 5, 10, 0,\n",
       "       10, 0, 5, 25, 2, 5, 25, 2, 35, 25, 5, 22, 8, 22, 20, 0.5, 0.5, 22,\n",
       "       20, 13, 16, 20, 30, 33, 8, 8, 2, 2, 33, 2, 25, 25, 25, 25, 33, 25,\n",
       "       33, 25, 25, 4, 25, 25, 25, 8, 25, 4, 22, 22, 22, 8, 33, 11, 20, 20,\n",
       "       20, 8, 8, 2, 4, 8, 20, 22, 25, 11, 22, 2, 20, 33, 33, 16, 8, 25, 2,\n",
       "       2, 25, 22, 20, 4, 25, 25, 20, 25, 22, 22, 33, 4, 22, 0, 3, 0, 3,\n",
       "       22, 3, 22, 2, 0, 2, 20, 33, 22, 33, 3, 0, 0, 33, 22, 33, 33, 22, 2,\n",
       "       2, 22, 0, 22, 2, 3, 2, 3, 8, 8, 2, 25, 11, 2, 3, 8, 3, 8, 3, nan,\n",
       "       8, 25, 20, 22, nan, 33, 3, 25, nan, 33, 22, 24, 0, 8, nan, 2, 8,\n",
       "       20, 8, 3, 33, 20, 4, 25, 2, 2, 2, 22, 2, 4, 0, 25, 22, 0, 18, 25,\n",
       "       11, 33, 24, 20, 4, 11, 30, 25, 33, 0, 22, 2, 0, 0, 3, 25, 33, 3,\n",
       "       nan, 25, 0, 0, 20, 10, 25, 3, 22, 0, 6, 0, 3, 3, 3, 25, 22, 33, 3,\n",
       "       0, 33, 2, 2, 3, 33, 25, 2, 10, 15, 25, 25, nan, 4, 8, 25, 33, 8,\n",
       "       33, 8, 8, 25, 8, 8, 8, 12, 33, 3, 33, 13, 0, 33, 8, 3, 25, 33, 2,\n",
       "       3, 0, 2, 10, 11, 6, 11, 6, 36, 11, 3, 5, 4, 6, 6, 36, 40, 3, 25,\n",
       "       18, 4, 6, 15, 6, 0, 11, 6, 2, 2, 6, 11, 11, 4, 20, 6, 20, 6, 26,\n",
       "       11, 30, 30, 11, 22, 4, 8, 36, 4, 36, 11, 22, 4, 18, 36, 6, 4, 11],\n",
       "      dtype=object)"
      ]
     },
     "execution_count": 100,
     "metadata": {},
     "output_type": "execute_result"
    }
   ],
   "source": [
    "df.DSR.values"
   ]
  },
  {
   "cell_type": "code",
   "execution_count": 101,
   "metadata": {},
   "outputs": [],
   "source": [
    "pct = df['DSR'].str.contains('%',na=False) \n",
    "df.loc[pct,'DSR'] = df.loc[pct,'DSR'].str.rstrip('%').astype('float') / 100.0\n",
    "df['DSR'] = df['DSR'].astype(float)"
   ]
  },
  {
   "cell_type": "code",
   "execution_count": 102,
   "metadata": {},
   "outputs": [
    {
     "data": {
      "text/plain": [
       "0.00     55\n",
       "25.00    52\n",
       "2.00     41\n",
       "3.00     40\n",
       "6.00     39\n",
       "33.00    33\n",
       "8.00     32\n",
       "22.00    32\n",
       "4.00     31\n",
       "20.00    30\n",
       "11.00    19\n",
       "5.00     14\n",
       "10.00    11\n",
       "18.00     7\n",
       "36.00     6\n",
       "0.10      5\n",
       "9.00      4\n",
       "30.00     4\n",
       "15.00     3\n",
       "35.00     3\n",
       "0.50      3\n",
       "42.00     2\n",
       "16.00     2\n",
       "13.00     2\n",
       "40.00     2\n",
       "24.00     2\n",
       "1.00      2\n",
       "55.00     1\n",
       "0.75      1\n",
       "23.00     1\n",
       "43.00     1\n",
       "17.00     1\n",
       "12.00     1\n",
       "48.00     1\n",
       "26.00     1\n",
       "59.00     1\n",
       "Name: DSR, dtype: int64"
      ]
     },
     "execution_count": 102,
     "metadata": {},
     "output_type": "execute_result"
    }
   ],
   "source": [
    "df.DSR.value_counts()"
   ]
  },
  {
   "cell_type": "code",
   "execution_count": 103,
   "metadata": {},
   "outputs": [
    {
     "data": {
      "text/plain": [
       "array([ 0.  ,  8.  , 18.  ,  6.  , 25.  ,  0.  , 11.  , 20.  , 22.  ,\n",
       "       20.  ,  5.  , 20.  , 36.  , 11.  , 20.  ,  0.  ,  8.  , 33.  ,\n",
       "         nan,  6.  ,  0.5 , 20.  , 25.  , 35.  ,  5.  , 11.  ,  0.  ,\n",
       "       23.  ,   nan, 33.  , 25.  , 25.  , 33.  ,  0.  ,   nan, 35.  ,\n",
       "        0.  ,  8.  , 22.  , 48.  ,  0.1 ,  4.  ,  0.  ,  0.  , 10.  ,\n",
       "       25.  ,  2.  , 42.  , 33.  ,  0.1 ,  4.  , 10.  , 18.  ,  0.1 ,\n",
       "        2.  , 25.  ,  0.1 ,  8.  , 59.  ,   nan,  6.  ,  4.  ,   nan,\n",
       "         nan,   nan,   nan,  5.  , 25.  , 20.  ,   nan,  0.  ,   nan,\n",
       "       11.  , 25.  , 25.  , 18.  , 20.  ,   nan,  8.  ,   nan,   nan,\n",
       "         nan,   nan,   nan,   nan,   nan,   nan,   nan,   nan,   nan,\n",
       "         nan,   nan,  0.  ,  0.  ,  0.  ,  0.  ,  0.  ,  0.  ,  0.  ,\n",
       "        0.  ,  0.  ,  0.1 ,  8.  ,  4.  ,  4.  ,  3.  ,  4.  ,  1.  ,\n",
       "        2.  ,  4.  ,  3.  ,  3.  ,  3.  ,  3.  ,  2.  ,  3.  ,  3.  ,\n",
       "        6.  ,  6.  ,  6.  ,  6.  ,  0.  ,  3.  ,  5.  ,  2.  ,  4.  ,\n",
       "        4.  ,  4.  ,  1.  ,  4.  ,  6.  ,  4.  ,  2.  ,  3.  ,  6.  ,\n",
       "        4.  ,  3.  ,  0.  ,  6.  ,  3.  ,  6.  , 55.  ,  0.  , 18.  ,\n",
       "        3.  ,  4.  ,  3.  ,  0.  , 22.  ,  6.  ,  6.  ,  6.  ,  6.  ,\n",
       "        3.  ,  6.  ,  9.  ,  6.  ,  6.  ,  6.  ,  6.  ,  6.  ,  6.  ,\n",
       "        6.  ,  6.  ,  6.  ,  9.  ,  0.  ,  0.  ,  5.  ,  5.  ,  0.75,\n",
       "        5.  ,  5.  , 10.  , 40.  ,  3.  ,  3.  ,  9.  , 20.  ,  9.  ,\n",
       "        0.  ,  0.  ,  5.  ,  2.  , 10.  , 25.  , 43.  , 42.  , 25.  ,\n",
       "        0.  , 25.  , 20.  , 20.  , 20.  , 25.  ,  2.  ,  0.  , 20.  ,\n",
       "        6.  ,  4.  ,  6.  ,  0.  ,  0.  , 17.  ,  2.  ,  2.  , 10.  ,\n",
       "        0.  ,   nan, 10.  , 22.  ,  0.  , 33.  , 15.  ,  0.  ,  2.  ,\n",
       "       25.  ,  5.  , 10.  ,  0.  , 10.  ,  0.  ,  5.  , 25.  ,  2.  ,\n",
       "        5.  , 25.  ,  2.  , 35.  , 25.  ,  5.  , 22.  ,  8.  , 22.  ,\n",
       "       20.  ,  0.5 ,  0.5 , 22.  , 20.  , 13.  , 16.  , 20.  , 30.  ,\n",
       "       33.  ,  8.  ,  8.  ,  2.  ,  2.  , 33.  ,  2.  , 25.  , 25.  ,\n",
       "       25.  , 25.  , 33.  , 25.  , 33.  , 25.  , 25.  ,  4.  , 25.  ,\n",
       "       25.  , 25.  ,  8.  , 25.  ,  4.  , 22.  , 22.  , 22.  ,  8.  ,\n",
       "       33.  , 11.  , 20.  , 20.  , 20.  ,  8.  ,  8.  ,  2.  ,  4.  ,\n",
       "        8.  , 20.  , 22.  , 25.  , 11.  , 22.  ,  2.  , 20.  , 33.  ,\n",
       "       33.  , 16.  ,  8.  , 25.  ,  2.  ,  2.  , 25.  , 22.  , 20.  ,\n",
       "        4.  , 25.  , 25.  , 20.  , 25.  , 22.  , 22.  , 33.  ,  4.  ,\n",
       "       22.  ,  0.  ,  3.  ,  0.  ,  3.  , 22.  ,  3.  , 22.  ,  2.  ,\n",
       "        0.  ,  2.  , 20.  , 33.  , 22.  , 33.  ,  3.  ,  0.  ,  0.  ,\n",
       "       33.  , 22.  , 33.  , 33.  , 22.  ,  2.  ,  2.  , 22.  ,  0.  ,\n",
       "       22.  ,  2.  ,  3.  ,  2.  ,  3.  ,  8.  ,  8.  ,  2.  , 25.  ,\n",
       "       11.  ,  2.  ,  3.  ,  8.  ,  3.  ,  8.  ,  3.  ,   nan,  8.  ,\n",
       "       25.  , 20.  , 22.  ,   nan, 33.  ,  3.  , 25.  ,   nan, 33.  ,\n",
       "       22.  , 24.  ,  0.  ,  8.  ,   nan,  2.  ,  8.  , 20.  ,  8.  ,\n",
       "        3.  , 33.  , 20.  ,  4.  , 25.  ,  2.  ,  2.  ,  2.  , 22.  ,\n",
       "        2.  ,  4.  ,  0.  , 25.  , 22.  ,  0.  , 18.  , 25.  , 11.  ,\n",
       "       33.  , 24.  , 20.  ,  4.  , 11.  , 30.  , 25.  , 33.  ,  0.  ,\n",
       "       22.  ,  2.  ,  0.  ,  0.  ,  3.  , 25.  , 33.  ,  3.  ,   nan,\n",
       "       25.  ,  0.  ,  0.  , 20.  , 10.  , 25.  ,  3.  , 22.  ,  0.  ,\n",
       "        6.  ,  0.  ,  3.  ,  3.  ,  3.  , 25.  , 22.  , 33.  ,  3.  ,\n",
       "        0.  , 33.  ,  2.  ,  2.  ,  3.  , 33.  , 25.  ,  2.  , 10.  ,\n",
       "       15.  , 25.  , 25.  ,   nan,  4.  ,  8.  , 25.  , 33.  ,  8.  ,\n",
       "       33.  ,  8.  ,  8.  , 25.  ,  8.  ,  8.  ,  8.  , 12.  , 33.  ,\n",
       "        3.  , 33.  , 13.  ,  0.  , 33.  ,  8.  ,  3.  , 25.  , 33.  ,\n",
       "        2.  ,  3.  ,  0.  ,  2.  , 10.  , 11.  ,  6.  , 11.  ,  6.  ,\n",
       "       36.  , 11.  ,  3.  ,  5.  ,  4.  ,  6.  ,  6.  , 36.  , 40.  ,\n",
       "        3.  , 25.  , 18.  ,  4.  ,  6.  , 15.  ,  6.  ,  0.  , 11.  ,\n",
       "        6.  ,  2.  ,  2.  ,  6.  , 11.  , 11.  ,  4.  , 20.  ,  6.  ,\n",
       "       20.  ,  6.  , 26.  , 11.  , 30.  , 30.  , 11.  , 22.  ,  4.  ,\n",
       "        8.  , 36.  ,  4.  , 36.  , 11.  , 22.  ,  4.  , 18.  , 36.  ,\n",
       "        6.  ,  4.  , 11.  ])"
      ]
     },
     "execution_count": 103,
     "metadata": {},
     "output_type": "execute_result"
    }
   ],
   "source": [
    "df.DSR.values"
   ]
  },
  {
   "cell_type": "code",
   "execution_count": 104,
   "metadata": {},
   "outputs": [
    {
     "data": {
      "text/html": [
       "<div>\n",
       "<style scoped>\n",
       "    .dataframe tbody tr th:only-of-type {\n",
       "        vertical-align: middle;\n",
       "    }\n",
       "\n",
       "    .dataframe tbody tr th {\n",
       "        vertical-align: top;\n",
       "    }\n",
       "\n",
       "    .dataframe thead th {\n",
       "        text-align: right;\n",
       "    }\n",
       "</style>\n",
       "<table border=\"1\" class=\"dataframe\">\n",
       "  <thead>\n",
       "    <tr style=\"text-align: right;\">\n",
       "      <th></th>\n",
       "      <th>id</th>\n",
       "      <th>Card_type</th>\n",
       "      <th>ALE_Status</th>\n",
       "      <th>submission_Substatus</th>\n",
       "      <th>Application_no</th>\n",
       "      <th>listid</th>\n",
       "      <th>Employer_Name</th>\n",
       "      <th>Address</th>\n",
       "      <th>Salary</th>\n",
       "      <th>Designation</th>\n",
       "      <th>...</th>\n",
       "      <th>Working_Emirates</th>\n",
       "      <th>Existing_Bank_Customer</th>\n",
       "      <th>DSR</th>\n",
       "      <th>Residence_Emirates</th>\n",
       "      <th>lead_date_year</th>\n",
       "      <th>lead_date_month</th>\n",
       "      <th>lead_date_day</th>\n",
       "      <th>dob_year</th>\n",
       "      <th>dob_month</th>\n",
       "      <th>dob_day</th>\n",
       "    </tr>\n",
       "  </thead>\n",
       "  <tbody>\n",
       "    <tr>\n",
       "      <th>511</th>\n",
       "      <td>5858257</td>\n",
       "      <td>LuLu 247 Titanium</td>\n",
       "      <td>ALE</td>\n",
       "      <td>REJECT</td>\n",
       "      <td>2565086</td>\n",
       "      <td>4999</td>\n",
       "      <td>HUTA HEGERFELD SAUDIA LTD</td>\n",
       "      <td>DUBAI</td>\n",
       "      <td>7000</td>\n",
       "      <td>ENGINEER</td>\n",
       "      <td>...</td>\n",
       "      <td>Dubai</td>\n",
       "      <td>No</td>\n",
       "      <td>18.0</td>\n",
       "      <td>Dubai</td>\n",
       "      <td>2020</td>\n",
       "      <td>12</td>\n",
       "      <td>7</td>\n",
       "      <td>1968</td>\n",
       "      <td>7</td>\n",
       "      <td>25</td>\n",
       "    </tr>\n",
       "    <tr>\n",
       "      <th>512</th>\n",
       "      <td>5858258</td>\n",
       "      <td>LuLu 247 Titanium</td>\n",
       "      <td>ALE</td>\n",
       "      <td>REJECT</td>\n",
       "      <td>558882641</td>\n",
       "      <td>5130</td>\n",
       "      <td>TRANSGUARD GROUP LLC</td>\n",
       "      <td>DUBAI</td>\n",
       "      <td>5000</td>\n",
       "      <td>SALES</td>\n",
       "      <td>...</td>\n",
       "      <td>Dubai</td>\n",
       "      <td>No</td>\n",
       "      <td>36.0</td>\n",
       "      <td>Dubai</td>\n",
       "      <td>2020</td>\n",
       "      <td>12</td>\n",
       "      <td>7</td>\n",
       "      <td>1980</td>\n",
       "      <td>10</td>\n",
       "      <td>29</td>\n",
       "    </tr>\n",
       "    <tr>\n",
       "      <th>513</th>\n",
       "      <td>5858259</td>\n",
       "      <td>LuLu 247 Titanium</td>\n",
       "      <td>ALE</td>\n",
       "      <td>REJECT</td>\n",
       "      <td>503760079</td>\n",
       "      <td>4999</td>\n",
       "      <td>NISCO GENERAL CONTRACTING LLC</td>\n",
       "      <td>DUBAI</td>\n",
       "      <td>6000</td>\n",
       "      <td>ACCOUNTANT</td>\n",
       "      <td>...</td>\n",
       "      <td>Dubai</td>\n",
       "      <td>No</td>\n",
       "      <td>6.0</td>\n",
       "      <td>Dubai</td>\n",
       "      <td>2020</td>\n",
       "      <td>12</td>\n",
       "      <td>7</td>\n",
       "      <td>1993</td>\n",
       "      <td>6</td>\n",
       "      <td>15</td>\n",
       "    </tr>\n",
       "    <tr>\n",
       "      <th>514</th>\n",
       "      <td>5858260</td>\n",
       "      <td>LuLu 247 Titanium</td>\n",
       "      <td>NON ALE</td>\n",
       "      <td>APPROVED</td>\n",
       "      <td>2565226</td>\n",
       "      <td>4999</td>\n",
       "      <td>MINDFIRE TECHNOLOGIES LLC</td>\n",
       "      <td>DUBAI</td>\n",
       "      <td>8000</td>\n",
       "      <td>COMPUTER PROGRAMMER</td>\n",
       "      <td>...</td>\n",
       "      <td>Abu Dhabi</td>\n",
       "      <td>No</td>\n",
       "      <td>4.0</td>\n",
       "      <td>Abu Dhabi</td>\n",
       "      <td>2020</td>\n",
       "      <td>12</td>\n",
       "      <td>7</td>\n",
       "      <td>1990</td>\n",
       "      <td>10</td>\n",
       "      <td>31</td>\n",
       "    </tr>\n",
       "    <tr>\n",
       "      <th>515</th>\n",
       "      <td>5858261</td>\n",
       "      <td>LuLu 247 Titanium</td>\n",
       "      <td>ALE</td>\n",
       "      <td>APPROVED</td>\n",
       "      <td>2565281</td>\n",
       "      <td>4999</td>\n",
       "      <td>DESCON ENGINEERING</td>\n",
       "      <td>DUBAI</td>\n",
       "      <td>7600</td>\n",
       "      <td>SUPERVISOR HSE</td>\n",
       "      <td>...</td>\n",
       "      <td>Abu Dhabi</td>\n",
       "      <td>No</td>\n",
       "      <td>11.0</td>\n",
       "      <td>Abu Dhabi</td>\n",
       "      <td>2020</td>\n",
       "      <td>12</td>\n",
       "      <td>7</td>\n",
       "      <td>1991</td>\n",
       "      <td>2</td>\n",
       "      <td>12</td>\n",
       "    </tr>\n",
       "  </tbody>\n",
       "</table>\n",
       "<p>5 rows × 27 columns</p>\n",
       "</div>"
      ],
      "text/plain": [
       "          id          Card_type ALE_Status submission_Substatus  \\\n",
       "511  5858257  LuLu 247 Titanium        ALE               REJECT   \n",
       "512  5858258  LuLu 247 Titanium        ALE               REJECT   \n",
       "513  5858259  LuLu 247 Titanium        ALE               REJECT   \n",
       "514  5858260  LuLu 247 Titanium    NON ALE             APPROVED   \n",
       "515  5858261  LuLu 247 Titanium        ALE             APPROVED   \n",
       "\n",
       "    Application_no  listid                  Employer_Name Address  Salary  \\\n",
       "511        2565086    4999      HUTA HEGERFELD SAUDIA LTD   DUBAI    7000   \n",
       "512      558882641    5130           TRANSGUARD GROUP LLC   DUBAI    5000   \n",
       "513      503760079    4999  NISCO GENERAL CONTRACTING LLC   DUBAI    6000   \n",
       "514        2565226    4999     MINDFIRE TECHNOLOGIES LLC    DUBAI    8000   \n",
       "515        2565281    4999            DESCON ENGINEERING    DUBAI    7600   \n",
       "\n",
       "             Designation  ... Working_Emirates Existing_Bank_Customer   DSR  \\\n",
       "511             ENGINEER  ...            Dubai                     No  18.0   \n",
       "512                SALES  ...            Dubai                     No  36.0   \n",
       "513           ACCOUNTANT  ...            Dubai                     No   6.0   \n",
       "514  COMPUTER PROGRAMMER  ...        Abu Dhabi                     No   4.0   \n",
       "515       SUPERVISOR HSE  ...        Abu Dhabi                     No  11.0   \n",
       "\n",
       "     Residence_Emirates lead_date_year lead_date_month lead_date_day dob_year  \\\n",
       "511               Dubai           2020              12             7     1968   \n",
       "512               Dubai           2020              12             7     1980   \n",
       "513               Dubai           2020              12             7     1993   \n",
       "514           Abu Dhabi           2020              12             7     1990   \n",
       "515           Abu Dhabi           2020              12             7     1991   \n",
       "\n",
       "    dob_month  dob_day  \n",
       "511         7       25  \n",
       "512        10       29  \n",
       "513         6       15  \n",
       "514        10       31  \n",
       "515         2       12  \n",
       "\n",
       "[5 rows x 27 columns]"
      ]
     },
     "execution_count": 104,
     "metadata": {},
     "output_type": "execute_result"
    }
   ],
   "source": [
    "df.tail(5)"
   ]
  },
  {
   "cell_type": "code",
   "execution_count": 105,
   "metadata": {},
   "outputs": [],
   "source": [
    "df = df.drop([\"Application_no\",\"id\"],axis=1)"
   ]
  },
  {
   "cell_type": "code",
   "execution_count": 106,
   "metadata": {},
   "outputs": [
    {
     "data": {
      "text/plain": [
       "(0    ENBD\n",
       " dtype: object,\n",
       " 0    0\n",
       " dtype: int32,\n",
       " 0    0.0\n",
       " dtype: float64)"
      ]
     },
     "execution_count": 106,
     "metadata": {},
     "output_type": "execute_result"
    }
   ],
   "source": [
    "df.Salary_transfer_bank.mode(),df.Length_of_service.mode(),df.DSR.mode()"
   ]
  },
  {
   "cell_type": "code",
   "execution_count": 107,
   "metadata": {},
   "outputs": [],
   "source": [
    "df.Salary_transfer_bank.fillna(df.Salary_transfer_bank.mode()[0],inplace=True)\n",
    "df.Length_of_service.fillna(df.Length_of_service.mode()[0],inplace=True)\n",
    "df.DSR.fillna(df.DSR.mode()[0],inplace=True)"
   ]
  },
  {
   "cell_type": "code",
   "execution_count": 108,
   "metadata": {},
   "outputs": [
    {
     "data": {
      "text/plain": [
       "Card_type                  object\n",
       "ALE_Status                 object\n",
       "submission_Substatus       object\n",
       "listid                      int64\n",
       "Employer_Name              object\n",
       "Address                    object\n",
       "Salary                      int64\n",
       "Designation                object\n",
       "Nationality                object\n",
       "cheque                     object\n",
       "Salary_transfer_bank       object\n",
       "Length_of_service           int32\n",
       "Marital_Status             object\n",
       "Gender                     object\n",
       "Industry                   object\n",
       "Working_Emirates           object\n",
       "Existing_Bank_Customer     object\n",
       "DSR                       float64\n",
       "Residence_Emirates         object\n",
       "lead_date_year              int64\n",
       "lead_date_month             int64\n",
       "lead_date_day               int64\n",
       "dob_year                    int64\n",
       "dob_month                   int64\n",
       "dob_day                     int64\n",
       "dtype: object"
      ]
     },
     "execution_count": 108,
     "metadata": {},
     "output_type": "execute_result"
    }
   ],
   "source": [
    "df.dtypes"
   ]
  },
  {
   "cell_type": "code",
   "execution_count": 109,
   "metadata": {},
   "outputs": [
    {
     "data": {
      "text/plain": [
       "Card_type                 0\n",
       "ALE_Status                0\n",
       "submission_Substatus      0\n",
       "listid                    0\n",
       "Employer_Name             0\n",
       "Address                   0\n",
       "Salary                    0\n",
       "Designation               0\n",
       "Nationality               0\n",
       "cheque                    0\n",
       "Salary_transfer_bank      0\n",
       "Length_of_service         0\n",
       "Marital_Status            0\n",
       "Gender                    0\n",
       "Industry                  0\n",
       "Working_Emirates          0\n",
       "Existing_Bank_Customer    0\n",
       "DSR                       0\n",
       "Residence_Emirates        0\n",
       "lead_date_year            0\n",
       "lead_date_month           0\n",
       "lead_date_day             0\n",
       "dob_year                  0\n",
       "dob_month                 0\n",
       "dob_day                   0\n",
       "dtype: int64"
      ]
     },
     "execution_count": 109,
     "metadata": {},
     "output_type": "execute_result"
    }
   ],
   "source": [
    "df.isnull().sum()"
   ]
  },
  {
   "cell_type": "code",
   "execution_count": 110,
   "metadata": {},
   "outputs": [
    {
     "data": {
      "text/plain": [
       "['Card_type',\n",
       " 'ALE_Status',\n",
       " 'submission_Substatus',\n",
       " 'Employer_Name',\n",
       " 'Address',\n",
       " 'Designation',\n",
       " 'Nationality',\n",
       " 'cheque',\n",
       " 'Salary_transfer_bank',\n",
       " 'Marital_Status',\n",
       " 'Gender',\n",
       " 'Industry',\n",
       " 'Working_Emirates',\n",
       " 'Existing_Bank_Customer',\n",
       " 'Residence_Emirates']"
      ]
     },
     "execution_count": 110,
     "metadata": {},
     "output_type": "execute_result"
    }
   ],
   "source": [
    "#object dtype in single list\n",
    "colname=[]\n",
    "for b in df.columns:\n",
    "    if df[b].dtype=='object':\n",
    "        colname.append(b) \n",
    "        \n",
    "colname"
   ]
  },
  {
   "cell_type": "code",
   "execution_count": 111,
   "metadata": {},
   "outputs": [],
   "source": [
    "from sklearn import preprocessing\n",
    "\n",
    "le=preprocessing.LabelEncoder()\n",
    "\n",
    "for x in colname:\n",
    "    df[x]=le.fit_transform(df[x])"
   ]
  },
  {
   "cell_type": "code",
   "execution_count": 112,
   "metadata": {},
   "outputs": [
    {
     "data": {
      "text/plain": [
       "Card_type                   int32\n",
       "ALE_Status                  int32\n",
       "submission_Substatus        int32\n",
       "listid                      int64\n",
       "Employer_Name               int32\n",
       "Address                     int32\n",
       "Salary                      int64\n",
       "Designation                 int32\n",
       "Nationality                 int32\n",
       "cheque                      int32\n",
       "Salary_transfer_bank        int32\n",
       "Length_of_service           int32\n",
       "Marital_Status              int32\n",
       "Gender                      int32\n",
       "Industry                    int32\n",
       "Working_Emirates            int32\n",
       "Existing_Bank_Customer      int32\n",
       "DSR                       float64\n",
       "Residence_Emirates          int32\n",
       "lead_date_year              int64\n",
       "lead_date_month             int64\n",
       "lead_date_day               int64\n",
       "dob_year                    int64\n",
       "dob_month                   int64\n",
       "dob_day                     int64\n",
       "dtype: object"
      ]
     },
     "execution_count": 112,
     "metadata": {},
     "output_type": "execute_result"
    }
   ],
   "source": [
    "df.dtypes"
   ]
  },
  {
   "cell_type": "code",
   "execution_count": 113,
   "metadata": {},
   "outputs": [
    {
     "data": {
      "text/plain": [
       "0    505\n",
       "1     11\n",
       "Name: Existing_Bank_Customer, dtype: int64"
      ]
     },
     "execution_count": 113,
     "metadata": {},
     "output_type": "execute_result"
    }
   ],
   "source": [
    "df.Existing_Bank_Customer.value_counts()"
   ]
  },
  {
   "cell_type": "code",
   "execution_count": 114,
   "metadata": {},
   "outputs": [],
   "source": [
    "df = df.drop([\"Working_Emirates\",\"Residence_Emirates\"],axis=1)"
   ]
  },
  {
   "cell_type": "code",
   "execution_count": 115,
   "metadata": {},
   "outputs": [
    {
     "data": {
      "text/plain": [
       "<matplotlib.axes._subplots.AxesSubplot at 0x1bf29836a00>"
      ]
     },
     "execution_count": 115,
     "metadata": {},
     "output_type": "execute_result"
    },
    {
     "data": {
      "image/png": "[encoded data removed]",
      "text/plain": [
       "<Figure size 432x288 with 1 Axes>"
      ]
     },
     "metadata": {
      "needs_background": "light"
     },
     "output_type": "display_data"
    }
   ],
   "source": [
    "sb.barplot(x=\"Marital_Status\",y=\"Salary\",data=df)"
   ]
  },
  {
   "cell_type": "code",
   "execution_count": 116,
   "metadata": {},
   "outputs": [
    {
     "data": {
      "text/plain": [
       "<matplotlib.axes._subplots.AxesSubplot at 0x1bf297e9bb0>"
      ]
     },
     "execution_count": 116,
     "metadata": {},
     "output_type": "execute_result"
    },
    {
     "data": {
      "image/png": "[encoded data removed]",
      "text/plain": [
       "<Figure size 432x288 with 1 Axes>"
      ]
     },
     "metadata": {
      "needs_background": "light"
     },
     "output_type": "display_data"
    }
   ],
   "source": [
    "sb.boxplot(x=\"Salary_transfer_bank\",data=df)"
   ]
  },
  {
   "cell_type": "code",
   "execution_count": 117,
   "metadata": {},
   "outputs": [
    {
     "data": {
      "text/html": [
       "<div>\n",
       "<style scoped>\n",
       "    .dataframe tbody tr th:only-of-type {\n",
       "        vertical-align: middle;\n",
       "    }\n",
       "\n",
       "    .dataframe tbody tr th {\n",
       "        vertical-align: top;\n",
       "    }\n",
       "\n",
       "    .dataframe thead th {\n",
       "        text-align: right;\n",
       "    }\n",
       "</style>\n",
       "<table border=\"1\" class=\"dataframe\">\n",
       "  <thead>\n",
       "    <tr style=\"text-align: right;\">\n",
       "      <th></th>\n",
       "      <th>Card_type</th>\n",
       "      <th>ALE_Status</th>\n",
       "      <th>submission_Substatus</th>\n",
       "      <th>listid</th>\n",
       "      <th>Employer_Name</th>\n",
       "      <th>Address</th>\n",
       "      <th>Salary</th>\n",
       "      <th>Designation</th>\n",
       "      <th>Nationality</th>\n",
       "      <th>cheque</th>\n",
       "      <th>...</th>\n",
       "      <th>Gender</th>\n",
       "      <th>Industry</th>\n",
       "      <th>Existing_Bank_Customer</th>\n",
       "      <th>DSR</th>\n",
       "      <th>lead_date_year</th>\n",
       "      <th>lead_date_month</th>\n",
       "      <th>lead_date_day</th>\n",
       "      <th>dob_year</th>\n",
       "      <th>dob_month</th>\n",
       "      <th>dob_day</th>\n",
       "    </tr>\n",
       "  </thead>\n",
       "  <tbody>\n",
       "    <tr>\n",
       "      <th>511</th>\n",
       "      <td>6</td>\n",
       "      <td>0</td>\n",
       "      <td>12</td>\n",
       "      <td>4999</td>\n",
       "      <td>254</td>\n",
       "      <td>5</td>\n",
       "      <td>7000</td>\n",
       "      <td>91</td>\n",
       "      <td>10</td>\n",
       "      <td>0</td>\n",
       "      <td>...</td>\n",
       "      <td>1</td>\n",
       "      <td>15</td>\n",
       "      <td>0</td>\n",
       "      <td>18.0</td>\n",
       "      <td>2020</td>\n",
       "      <td>12</td>\n",
       "      <td>7</td>\n",
       "      <td>1968</td>\n",
       "      <td>7</td>\n",
       "      <td>25</td>\n",
       "    </tr>\n",
       "    <tr>\n",
       "      <th>512</th>\n",
       "      <td>6</td>\n",
       "      <td>0</td>\n",
       "      <td>12</td>\n",
       "      <td>5130</td>\n",
       "      <td>452</td>\n",
       "      <td>5</td>\n",
       "      <td>5000</td>\n",
       "      <td>237</td>\n",
       "      <td>25</td>\n",
       "      <td>0</td>\n",
       "      <td>...</td>\n",
       "      <td>0</td>\n",
       "      <td>15</td>\n",
       "      <td>0</td>\n",
       "      <td>36.0</td>\n",
       "      <td>2020</td>\n",
       "      <td>12</td>\n",
       "      <td>7</td>\n",
       "      <td>1980</td>\n",
       "      <td>10</td>\n",
       "      <td>29</td>\n",
       "    </tr>\n",
       "    <tr>\n",
       "      <th>513</th>\n",
       "      <td>6</td>\n",
       "      <td>0</td>\n",
       "      <td>12</td>\n",
       "      <td>4999</td>\n",
       "      <td>341</td>\n",
       "      <td>5</td>\n",
       "      <td>6000</td>\n",
       "      <td>1</td>\n",
       "      <td>10</td>\n",
       "      <td>0</td>\n",
       "      <td>...</td>\n",
       "      <td>1</td>\n",
       "      <td>3</td>\n",
       "      <td>0</td>\n",
       "      <td>6.0</td>\n",
       "      <td>2020</td>\n",
       "      <td>12</td>\n",
       "      <td>7</td>\n",
       "      <td>1993</td>\n",
       "      <td>6</td>\n",
       "      <td>15</td>\n",
       "    </tr>\n",
       "    <tr>\n",
       "      <th>514</th>\n",
       "      <td>6</td>\n",
       "      <td>1</td>\n",
       "      <td>0</td>\n",
       "      <td>4999</td>\n",
       "      <td>312</td>\n",
       "      <td>5</td>\n",
       "      <td>8000</td>\n",
       "      <td>64</td>\n",
       "      <td>10</td>\n",
       "      <td>0</td>\n",
       "      <td>...</td>\n",
       "      <td>1</td>\n",
       "      <td>15</td>\n",
       "      <td>0</td>\n",
       "      <td>4.0</td>\n",
       "      <td>2020</td>\n",
       "      <td>12</td>\n",
       "      <td>7</td>\n",
       "      <td>1990</td>\n",
       "      <td>10</td>\n",
       "      <td>31</td>\n",
       "    </tr>\n",
       "    <tr>\n",
       "      <th>515</th>\n",
       "      <td>6</td>\n",
       "      <td>0</td>\n",
       "      <td>0</td>\n",
       "      <td>4999</td>\n",
       "      <td>176</td>\n",
       "      <td>5</td>\n",
       "      <td>7600</td>\n",
       "      <td>288</td>\n",
       "      <td>10</td>\n",
       "      <td>0</td>\n",
       "      <td>...</td>\n",
       "      <td>1</td>\n",
       "      <td>15</td>\n",
       "      <td>0</td>\n",
       "      <td>11.0</td>\n",
       "      <td>2020</td>\n",
       "      <td>12</td>\n",
       "      <td>7</td>\n",
       "      <td>1991</td>\n",
       "      <td>2</td>\n",
       "      <td>12</td>\n",
       "    </tr>\n",
       "  </tbody>\n",
       "</table>\n",
       "<p>5 rows × 23 columns</p>\n",
       "</div>"
      ],
      "text/plain": [
       "     Card_type  ALE_Status  submission_Substatus  listid  Employer_Name  \\\n",
       "511          6           0                    12    4999            254   \n",
       "512          6           0                    12    5130            452   \n",
       "513          6           0                    12    4999            341   \n",
       "514          6           1                     0    4999            312   \n",
       "515          6           0                     0    4999            176   \n",
       "\n",
       "     Address  Salary  Designation  Nationality  cheque  ...  Gender  Industry  \\\n",
       "511        5    7000           91           10       0  ...       1        15   \n",
       "512        5    5000          237           25       0  ...       0        15   \n",
       "513        5    6000            1           10       0  ...       1         3   \n",
       "514        5    8000           64           10       0  ...       1        15   \n",
       "515        5    7600          288           10       0  ...       1        15   \n",
       "\n",
       "     Existing_Bank_Customer   DSR  lead_date_year  lead_date_month  \\\n",
       "511                       0  18.0            2020               12   \n",
       "512                       0  36.0            2020               12   \n",
       "513                       0   6.0            2020               12   \n",
       "514                       0   4.0            2020               12   \n",
       "515                       0  11.0            2020               12   \n",
       "\n",
       "     lead_date_day  dob_year  dob_month  dob_day  \n",
       "511              7      1968          7       25  \n",
       "512              7      1980         10       29  \n",
       "513              7      1993          6       15  \n",
       "514              7      1990         10       31  \n",
       "515              7      1991          2       12  \n",
       "\n",
       "[5 rows x 23 columns]"
      ]
     },
     "execution_count": 117,
     "metadata": {},
     "output_type": "execute_result"
    }
   ],
   "source": [
    "df.tail()"
   ]
  },
  {
   "cell_type": "code",
   "execution_count": 118,
   "metadata": {},
   "outputs": [
    {
     "data": {
      "text/plain": [
       "<matplotlib.axes._subplots.AxesSubplot at 0x1bf29accfa0>"
      ]
     },
     "execution_count": 118,
     "metadata": {},
     "output_type": "execute_result"
    },
    {
     "data": {
      "image/png": "[encoded data removed]",
      "text/plain": [
       "<Figure size 432x288 with 1 Axes>"
      ]
     },
     "metadata": {
      "needs_background": "light"
     },
     "output_type": "display_data"
    }
   ],
   "source": [
    "sb.countplot(x = \"Existing_Bank_Customer\",data=df)"
   ]
  },
  {
   "cell_type": "code",
   "execution_count": 119,
   "metadata": {},
   "outputs": [],
   "source": [
    "df = df.replace(np.inf, np.nan).replace(-np.inf, np.nan).dropna()"
   ]
  },
  {
   "cell_type": "code",
   "execution_count": 120,
   "metadata": {},
   "outputs": [
    {
     "data": {
      "text/plain": [
       "True"
      ]
     },
     "execution_count": 120,
     "metadata": {},
     "output_type": "execute_result"
    }
   ],
   "source": [
    "pd.notnull(obj=5)"
   ]
  },
  {
   "cell_type": "code",
   "execution_count": 121,
   "metadata": {},
   "outputs": [],
   "source": [
    "x = df.drop([\"Existing_Bank_Customer\"],axis=1)\n",
    "y = df[\"Existing_Bank_Customer\"]"
   ]
  },
  {
   "cell_type": "code",
   "execution_count": 122,
   "metadata": {},
   "outputs": [
    {
     "name": "stderr",
     "output_type": "stream",
     "text": [
      "<frozen importlib._bootstrap>:219: RuntimeWarning: numpy.ufunc size changed, may indicate binary incompatibility. Expected 192 from C header, got 216 from PyObject\n"
     ]
    }
   ],
   "source": [
    "from imblearn.over_sampling import RandomOverSampler\n",
    "os = RandomOverSampler(sampling_strategy=1)"
   ]
  },
  {
   "cell_type": "code",
   "execution_count": 123,
   "metadata": {},
   "outputs": [
    {
     "data": {
      "text/plain": [
       "((1010, 22), (1010,))"
      ]
     },
     "execution_count": 123,
     "metadata": {},
     "output_type": "execute_result"
    }
   ],
   "source": [
    "x_res,y_res = os.fit_sample(x,y)\n",
    "x_res.shape,y_res.shape"
   ]
  },
  {
   "cell_type": "code",
   "execution_count": 124,
   "metadata": {},
   "outputs": [],
   "source": [
    "#df = x.astype(int)"
   ]
  },
  {
   "cell_type": "code",
   "execution_count": 125,
   "metadata": {},
   "outputs": [
    {
     "data": {
      "text/plain": [
       "Card_type                   int32\n",
       "ALE_Status                  int32\n",
       "submission_Substatus        int32\n",
       "listid                      int64\n",
       "Employer_Name               int32\n",
       "Address                     int32\n",
       "Salary                      int64\n",
       "Designation                 int32\n",
       "Nationality                 int32\n",
       "cheque                      int32\n",
       "Salary_transfer_bank        int32\n",
       "Length_of_service           int32\n",
       "Marital_Status              int32\n",
       "Gender                      int32\n",
       "Industry                    int32\n",
       "Existing_Bank_Customer      int32\n",
       "DSR                       float64\n",
       "lead_date_year              int64\n",
       "lead_date_month             int64\n",
       "lead_date_day               int64\n",
       "dob_year                    int64\n",
       "dob_month                   int64\n",
       "dob_day                     int64\n",
       "dtype: object"
      ]
     },
     "execution_count": 125,
     "metadata": {},
     "output_type": "execute_result"
    }
   ],
   "source": [
    "df.dtypes"
   ]
  },
  {
   "cell_type": "code",
   "execution_count": 127,
   "metadata": {},
   "outputs": [],
   "source": [
    "from sklearn.model_selection import train_test_split\n",
    "x_train,x_test,y_train,y_test = train_test_split(x_res,y_res,test_size=0.33,random_state=10)"
   ]
  },
  {
   "cell_type": "code",
   "execution_count": 128,
   "metadata": {},
   "outputs": [
    {
     "data": {
      "text/plain": [
       "((676, 22), (334, 22), (676,), (334,))"
      ]
     },
     "execution_count": 128,
     "metadata": {},
     "output_type": "execute_result"
    }
   ],
   "source": [
    "x_train.shape,x_test.shape,y_train.shape,y_test.shape"
   ]
  },
  {
   "cell_type": "code",
   "execution_count": 129,
   "metadata": {},
   "outputs": [],
   "source": [
    "from sklearn.linear_model import LogisticRegression\n",
    "lr = LogisticRegression()"
   ]
  },
  {
   "cell_type": "code",
   "execution_count": 130,
   "metadata": {},
   "outputs": [
    {
     "name": "stderr",
     "output_type": "stream",
     "text": [
      "C:\\Users\\Dell\\anaconda3\\lib\\site-packages\\sklearn\\linear_model\\_logistic.py:762: ConvergenceWarning: lbfgs failed to converge (status=1):\n",
      "STOP: TOTAL NO. of ITERATIONS REACHED LIMIT.\n",
      "\n",
      "Increase the number of iterations (max_iter) or scale the data as shown in:\n",
      "    https://scikit-learn.org/stable/modules/preprocessing.html\n",
      "Please also refer to the documentation for alternative solver options:\n",
      "    https://scikit-learn.org/stable/modules/linear_model.html#logistic-regression\n",
      "  n_iter_i = _check_optimize_result(\n"
     ]
    },
    {
     "data": {
      "text/plain": [
       "LogisticRegression()"
      ]
     },
     "execution_count": 130,
     "metadata": {},
     "output_type": "execute_result"
    }
   ],
   "source": [
    "lr.fit(x_train,y_train)"
   ]
  },
  {
   "cell_type": "code",
   "execution_count": 131,
   "metadata": {},
   "outputs": [
    {
     "data": {
      "text/plain": [
       "array([1, 1, 1, 0, 1, 0, 0, 0, 1, 1, 0, 0, 0, 1, 0, 0, 0, 0, 1, 1, 0, 1,\n",
       "       0, 0, 1, 1, 1, 1, 1, 0, 0, 1, 1, 0, 1, 1, 1, 1, 1, 0, 0, 1, 1, 1,\n",
       "       1, 0, 1, 1, 0, 1, 1, 1, 0, 1, 1, 1, 0, 0, 1, 1, 0, 1, 1, 1, 1, 1,\n",
       "       0, 0, 1, 1, 1, 1, 1, 0, 0, 0, 1, 1, 1, 1, 1, 0, 1, 1, 1, 1, 0, 0,\n",
       "       1, 1, 1, 1, 0, 0, 0, 1, 0, 0, 1, 0, 0, 1, 1, 1, 0, 1, 1, 1, 1, 0,\n",
       "       0, 1, 1, 1, 1, 0, 1, 1, 1, 1, 1, 0, 0, 0, 0, 1, 0, 0, 1, 0, 1, 0,\n",
       "       0, 0, 0, 0, 0, 1, 0, 0, 0, 0, 0, 0, 1, 1, 1, 0, 1, 1, 1, 1, 1, 1,\n",
       "       1, 0, 1, 1, 0, 0, 1, 1, 1, 1, 0, 1, 1, 1, 0, 0, 1, 1, 0, 1, 1, 0,\n",
       "       1, 1, 1, 0, 0, 0, 1, 1, 1, 1, 0, 1, 1, 1, 1, 1, 1, 1, 0, 1, 0, 0,\n",
       "       1, 0, 1, 0, 0, 0, 0, 0, 0, 1, 1, 1, 1, 0, 0, 1, 0, 1, 0, 0, 1, 0,\n",
       "       1, 0, 0, 1, 1, 1, 0, 1, 1, 0, 1, 0, 1, 0, 1, 1, 1, 1, 0, 0, 1, 0,\n",
       "       0, 1, 0, 0, 0, 1, 1, 1, 0, 1, 1, 0, 1, 1, 0, 1, 1, 0, 1, 1, 0, 1,\n",
       "       0, 1, 1, 1, 0, 1, 1, 1, 1, 0, 1, 0, 0, 0, 1, 0, 0, 1, 0, 1, 1, 0,\n",
       "       0, 0, 1, 1, 0, 1, 0, 1, 0, 1, 1, 1, 1, 1, 1, 0, 1, 1, 0, 0, 1, 1,\n",
       "       1, 0, 1, 1, 0, 1, 1, 0, 1, 0, 1, 0, 1, 1, 0, 1, 1, 1, 0, 0, 0, 0,\n",
       "       1, 1, 1, 1])"
      ]
     },
     "execution_count": 131,
     "metadata": {},
     "output_type": "execute_result"
    }
   ],
   "source": [
    "y_pred = lr.predict(x_test)\n",
    "y_pred"
   ]
  },
  {
   "cell_type": "code",
   "execution_count": 132,
   "metadata": {},
   "outputs": [
    {
     "name": "stdout",
     "output_type": "stream",
     "text": [
      "Accuracy of logistic regression classifier on test set: 0.74\n"
     ]
    }
   ],
   "source": [
    "lr.score(x_test,y_test)\n",
    "print('Accuracy of logistic regression classifier on test set: {:.2f}'.format(lr.score(x_test, y_test)))"
   ]
  },
  {
   "cell_type": "code",
   "execution_count": 133,
   "metadata": {},
   "outputs": [
    {
     "name": "stdout",
     "output_type": "stream",
     "text": [
      "[[112  60]\n",
      " [ 26 136]]\n"
     ]
    }
   ],
   "source": [
    "from sklearn.metrics import confusion_matrix     # TP - 112 values are predicted positive and its true it means the customer has applied \n",
    "confusion_matrix = confusion_matrix(y_test, y_pred)#TN-136 values are predicted negative and its true means the customer has not applied\n",
    "print(confusion_matrix)  #Type1 error-FP:60 values are predicted postive but actually it is not it means customer has applied but \n",
    "                         #actually he has not applied\n",
    "                          #Type2 error-FN:26 values are predicted negative but actually it is it means customer has not applied but actually he has applied"
   ]
  },
  {
   "cell_type": "code",
   "execution_count": 134,
   "metadata": {},
   "outputs": [],
   "source": [
    "from sklearn.tree import DecisionTreeClassifier\n",
    "dtc = DecisionTreeClassifier()"
   ]
  },
  {
   "cell_type": "code",
   "execution_count": 135,
   "metadata": {},
   "outputs": [
    {
     "data": {
      "text/plain": [
       "DecisionTreeClassifier()"
      ]
     },
     "execution_count": 135,
     "metadata": {},
     "output_type": "execute_result"
    }
   ],
   "source": [
    "dtc.fit(x_train,y_train)"
   ]
  },
  {
   "cell_type": "code",
   "execution_count": 136,
   "metadata": {},
   "outputs": [
    {
     "data": {
      "text/plain": [
       "0.9790419161676647"
      ]
     },
     "execution_count": 136,
     "metadata": {},
     "output_type": "execute_result"
    }
   ],
   "source": [
    "dtc.score(x_test,y_test)"
   ]
  },
  {
   "cell_type": "code",
   "execution_count": 137,
   "metadata": {},
   "outputs": [],
   "source": [
    "from sklearn.tree import ExtraTreeClassifier\n",
    "etc = ExtraTreeClassifier()"
   ]
  },
  {
   "cell_type": "code",
   "execution_count": 138,
   "metadata": {},
   "outputs": [
    {
     "data": {
      "text/plain": [
       "ExtraTreeClassifier()"
      ]
     },
     "execution_count": 138,
     "metadata": {},
     "output_type": "execute_result"
    }
   ],
   "source": [
    "etc.fit(x_train,y_train)"
   ]
  },
  {
   "cell_type": "code",
   "execution_count": 139,
   "metadata": {},
   "outputs": [
    {
     "data": {
      "text/plain": [
       "0.9820359281437125"
      ]
     },
     "execution_count": 139,
     "metadata": {},
     "output_type": "execute_result"
    }
   ],
   "source": [
    "etc.score(x_test,y_test)"
   ]
  },
  {
   "cell_type": "code",
   "execution_count": 140,
   "metadata": {},
   "outputs": [],
   "source": [
    "from sklearn.ensemble import RandomForestClassifier\n",
    "rfc = RandomForestClassifier()"
   ]
  },
  {
   "cell_type": "code",
   "execution_count": 141,
   "metadata": {},
   "outputs": [
    {
     "data": {
      "text/plain": [
       "RandomForestClassifier()"
      ]
     },
     "execution_count": 141,
     "metadata": {},
     "output_type": "execute_result"
    }
   ],
   "source": [
    "rfc.fit(x_train,y_train)"
   ]
  },
  {
   "cell_type": "code",
   "execution_count": 142,
   "metadata": {},
   "outputs": [
    {
     "data": {
      "text/plain": [
       "1.0"
      ]
     },
     "execution_count": 142,
     "metadata": {},
     "output_type": "execute_result"
    }
   ],
   "source": [
    "rfc.score(x_test,y_test)"
   ]
  },
  {
   "cell_type": "code",
   "execution_count": 143,
   "metadata": {},
   "outputs": [],
   "source": [
    "from sklearn.tree import ExtraTreeClassifier\n",
    "etc = ExtraTreeClassifier()"
   ]
  },
  {
   "cell_type": "code",
   "execution_count": 144,
   "metadata": {},
   "outputs": [
    {
     "data": {
      "text/plain": [
       "ExtraTreeClassifier()"
      ]
     },
     "execution_count": 144,
     "metadata": {},
     "output_type": "execute_result"
    }
   ],
   "source": [
    "etc.fit(x_train,y_train)"
   ]
  },
  {
   "cell_type": "code",
   "execution_count": 145,
   "metadata": {},
   "outputs": [
    {
     "data": {
      "text/plain": [
       "0.9880239520958084"
      ]
     },
     "execution_count": 145,
     "metadata": {},
     "output_type": "execute_result"
    }
   ],
   "source": [
    "etc.score(x_test,y_test)"
   ]
  },
  {
   "cell_type": "code",
   "execution_count": 73,
   "metadata": {},
   "outputs": [
    {
     "name": "stdout",
     "output_type": "stream",
     "text": [
      "[('Card_type', 0.17744007818011706), ('ALE_Status', 0.005259343489286245), ('submission_Substatus', 0.033199641057100424), ('listid', 0.026420209522172004), ('Employer_Name', 0.031089140922374386), ('Address', 0.012714204106836633), ('Salary', 0.028512671219718393), ('Designation', 0.12422556356179706), ('Nationality', 0.02876007864330791), ('City', 0.005521901126867807), ('cheque', 0.14717860989064027), ('Salary_transfer_bank', 0.03185051342891833), ('Length_of_service', 0.0006230776609560958), ('Marital_Status', 0.001020792349863157), ('Gender', 0.018546652086404797), ('Industry', 6.0379039793787164e-06), ('Existing_Bank_Customer', 0.02974733026735496), ('DSR', 0.014467532035034553), ('lead_date_year', 0.008238875872966383), ('lead_date_month', 0.02840775250994654), ('lead_date_day', 0.1892433552293108), ('dob_year', 0.023424963097176996), ('dob_month', 0.034101675837869785)]\n"
     ]
    }
   ],
   "source": [
    "#print(list(zip(df.columns,rfr.feature_importances_)))"
   ]
  },
  {
   "cell_type": "code",
   "execution_count": null,
   "metadata": {},
   "outputs": [],
   "source": []
  }
 ],
 "metadata": {
  "kernelspec": {
   "display_name": "Python 3",
   "language": "python",
   "name": "python3"
  },
  "language_info": {
   "codemirror_mode": {
    "name": "ipython",
    "version": 3
   },
   "file_extension": ".py",
   "mimetype": "text/x-python",
   "name": "python",
   "nbconvert_exporter": "python",
   "pygments_lexer": "ipython3",
   "version": "3.8.3"
  }
 },
 "nbformat": 4,
 "nbformat_minor": 4
}
